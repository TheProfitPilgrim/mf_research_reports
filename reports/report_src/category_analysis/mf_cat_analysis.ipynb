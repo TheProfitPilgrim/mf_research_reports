{
 "cells": [
  {
   "cell_type": "code",
   "execution_count": 4,
   "metadata": {},
   "outputs": [],
   "source": [
    "import pandas as pd\n",
    "import numpy as np"
   ]
  },
  {
   "cell_type": "code",
   "execution_count": 5,
   "metadata": {},
   "outputs": [],
   "source": [
    "df = pd.read_csv(\"fund_sheet.csv\")"
   ]
  },
  {
   "cell_type": "code",
   "execution_count": 6,
   "metadata": {},
   "outputs": [
    {
     "data": {
      "text/plain": [
       "50"
      ]
     },
     "execution_count": 6,
     "metadata": {},
     "output_type": "execute_result"
    }
   ],
   "source": [
    "fund_categories = df[\"Sub Category\"].unique()\n",
    "len(fund_categories) "
   ]
  },
  {
   "cell_type": "markdown",
   "metadata": {},
   "source": [
    "So we are dealing with a total of 50 fund types\n",
    "\n",
    "Sebi's circulars have a total of 10 (equity) + 16 (debt) + 6 (hybrid) + 2(solution oriented) + 2(Other) + Flexicap = 37 categories"
   ]
  },
  {
   "cell_type": "code",
   "execution_count": 7,
   "metadata": {},
   "outputs": [
    {
     "data": {
      "text/plain": [
       "array(['Small Cap Fund', 'Equity Linked Savings Scheme (ELSS)',\n",
       "       'Mid Cap Fund', 'Flexi Cap Fund', 'Multi Cap Fund',\n",
       "       'Sectoral Fund - Infrastructure', 'Large & Mid Cap Fund',\n",
       "       'Sectoral Fund - Technology', 'Value Fund', 'Thematic Fund',\n",
       "       'Contra Fund', 'Sectoral Fund - Consumption',\n",
       "       'Sectoral Fund - Energy & Power', 'Multi Asset Allocation Fund',\n",
       "       'Focused Fund', 'Sectoral Fund - Banks & Financial Services',\n",
       "       'Aggressive Hybrid Fund', 'Dividend Yield Fund',\n",
       "       'Sectoral Fund - Pharma & Health Care', 'Large Cap Fund',\n",
       "       'Sectoral Fund - Service Industry', 'Balanced Advantage Fund',\n",
       "       'Index Fund', 'Thematic Fund - Global', 'Thematic Fund - MNC',\n",
       "       'Dynamic Asset Allocation Fund', 'Conservative Hybrid Fund',\n",
       "       'Equity Savings', 'Medium Duration Fund',\n",
       "       'Gilt - Short & Mid Term Fund', 'Dynamic Bond Fund',\n",
       "       'Gilt - Long Term Fund', 'Credit Risk Fund',\n",
       "       'Medium to Long Duration Fund', 'Short Duration Fund',\n",
       "       'Long Duration Fund', 'Floating Rate Fund', 'Corporate Bond Fund',\n",
       "       'Banking & PSU Fund', 'Low Duration Fund',\n",
       "       'Ultra Short Duration Fund', 'Money Market Fund', 'Liquid Fund',\n",
       "       'Arbitrage Fund', 'Debt - Interval Fund', 'Overnight Fund',\n",
       "       'Sectoral Fund - Auto', 'Fixed Maturity Plans',\n",
       "       'Balanced Hybrid Fund', 'Sectoral Fund - Infrastructure (Debt)'],\n",
       "      dtype=object)"
      ]
     },
     "execution_count": 7,
     "metadata": {},
     "output_type": "execute_result"
    }
   ],
   "source": [
    "fund_categories"
   ]
  },
  {
   "cell_type": "markdown",
   "metadata": {},
   "source": [
    "Sectoral / Thematic funds are being counted uniquely"
   ]
  },
  {
   "cell_type": "code",
   "execution_count": 8,
   "metadata": {},
   "outputs": [
    {
     "name": "stdout",
     "output_type": "stream",
     "text": [
      "39\n"
     ]
    }
   ],
   "source": [
    "count = 1 # 1 count for all sectoral funds\n",
    "for i in fund_categories:\n",
    "    if i[:8] == 'Sectoral' or i[:8] == 'Thematic':\n",
    "        continue\n",
    "    else:\n",
    "        count += 1\n",
    "print(count)"
   ]
  },
  {
   "cell_type": "markdown",
   "metadata": {},
   "source": [
    "The SEBI circular combines Dynamic Asset Allocation and Balanced Advantage so 39 - 1 = 38. Fixed Maturity plan is not present in the circular but is part of https://www.amfiindia.com/investor-corner/knowledge-center/SEBI-categorization-of-mutual-fund-schemes.html"
   ]
  },
  {
   "cell_type": "code",
   "execution_count": 9,
   "metadata": {},
   "outputs": [
    {
     "data": {
      "text/html": [
       "<div>\n",
       "<style scoped>\n",
       "    .dataframe tbody tr th:only-of-type {\n",
       "        vertical-align: middle;\n",
       "    }\n",
       "\n",
       "    .dataframe tbody tr th {\n",
       "        vertical-align: top;\n",
       "    }\n",
       "\n",
       "    .dataframe thead th {\n",
       "        text-align: right;\n",
       "    }\n",
       "</style>\n",
       "<table border=\"1\" class=\"dataframe\">\n",
       "  <thead>\n",
       "    <tr style=\"text-align: right;\">\n",
       "      <th></th>\n",
       "      <th>Name</th>\n",
       "      <th>Sub Category</th>\n",
       "      <th>Plan</th>\n",
       "      <th>AUM</th>\n",
       "      <th>expense_ratio</th>\n",
       "      <th>lockin</th>\n",
       "      <th>exit_load</th>\n",
       "      <th>sip_investment</th>\n",
       "      <th>minimum_lumpsum</th>\n",
       "      <th>minimum_sip</th>\n",
       "      <th>...</th>\n",
       "      <th>volatility</th>\n",
       "      <th>category_st_dev</th>\n",
       "      <th>maximum_drawdown</th>\n",
       "      <th>percentage_equity_holding</th>\n",
       "      <th>percentage_debt_holding</th>\n",
       "      <th>percentage_largecap_holding</th>\n",
       "      <th>percentage_midcap_holding</th>\n",
       "      <th>percentage_smallcap_holding</th>\n",
       "      <th>percentage_concetration__top_5_holdings</th>\n",
       "      <th>percentage_cash_holding</th>\n",
       "    </tr>\n",
       "  </thead>\n",
       "  <tbody>\n",
       "    <tr>\n",
       "      <th>0</th>\n",
       "      <td>Nippon India Small Cap Fund</td>\n",
       "      <td>Small Cap Fund</td>\n",
       "      <td>Growth</td>\n",
       "      <td>62259.5550</td>\n",
       "      <td>0.66</td>\n",
       "      <td>0</td>\n",
       "      <td>1.0</td>\n",
       "      <td>Allowed</td>\n",
       "      <td>0</td>\n",
       "      <td>100</td>\n",
       "      <td>...</td>\n",
       "      <td>16.933338</td>\n",
       "      <td>16.468242</td>\n",
       "      <td>48.583718</td>\n",
       "      <td>94.407231</td>\n",
       "      <td>0.000000</td>\n",
       "      <td>11.116112</td>\n",
       "      <td>17.203678</td>\n",
       "      <td>66.087441</td>\n",
       "      <td>12.321307</td>\n",
       "      <td>5.177243</td>\n",
       "    </tr>\n",
       "    <tr>\n",
       "      <th>1</th>\n",
       "      <td>SBI Small Cap Fund</td>\n",
       "      <td>Small Cap Fund</td>\n",
       "      <td>Growth</td>\n",
       "      <td>34217.0149</td>\n",
       "      <td>0.66</td>\n",
       "      <td>0</td>\n",
       "      <td>1.0</td>\n",
       "      <td>Allowed</td>\n",
       "      <td>0</td>\n",
       "      <td>0</td>\n",
       "      <td>...</td>\n",
       "      <td>13.813997</td>\n",
       "      <td>16.468242</td>\n",
       "      <td>40.260128</td>\n",
       "      <td>88.463313</td>\n",
       "      <td>0.000000</td>\n",
       "      <td>0.000000</td>\n",
       "      <td>9.696481</td>\n",
       "      <td>78.766831</td>\n",
       "      <td>21.929414</td>\n",
       "      <td>11.536687</td>\n",
       "    </tr>\n",
       "    <tr>\n",
       "      <th>2</th>\n",
       "      <td>Quant ELSS Tax Saver Fund</td>\n",
       "      <td>Equity Linked Savings Scheme (ELSS)</td>\n",
       "      <td>Growth</td>\n",
       "      <td>10979.7141</td>\n",
       "      <td>0.65</td>\n",
       "      <td>3</td>\n",
       "      <td>0.0</td>\n",
       "      <td>Allowed</td>\n",
       "      <td>500</td>\n",
       "      <td>0</td>\n",
       "      <td>...</td>\n",
       "      <td>17.817548</td>\n",
       "      <td>14.797100</td>\n",
       "      <td>36.120169</td>\n",
       "      <td>92.966502</td>\n",
       "      <td>0.000000</td>\n",
       "      <td>82.427349</td>\n",
       "      <td>5.366091</td>\n",
       "      <td>5.173062</td>\n",
       "      <td>39.416176</td>\n",
       "      <td>6.958892</td>\n",
       "    </tr>\n",
       "    <tr>\n",
       "      <th>3</th>\n",
       "      <td>Motilal Oswal Midcap Fund</td>\n",
       "      <td>Mid Cap Fund</td>\n",
       "      <td>Growth</td>\n",
       "      <td>20055.6809</td>\n",
       "      <td>0.58</td>\n",
       "      <td>0</td>\n",
       "      <td>1.0</td>\n",
       "      <td>Allowed</td>\n",
       "      <td>500</td>\n",
       "      <td>1500</td>\n",
       "      <td>...</td>\n",
       "      <td>16.657121</td>\n",
       "      <td>16.602013</td>\n",
       "      <td>37.231974</td>\n",
       "      <td>97.597650</td>\n",
       "      <td>0.000000</td>\n",
       "      <td>38.427298</td>\n",
       "      <td>57.618415</td>\n",
       "      <td>1.551937</td>\n",
       "      <td>44.741917</td>\n",
       "      <td>2.402350</td>\n",
       "    </tr>\n",
       "    <tr>\n",
       "      <th>4</th>\n",
       "      <td>Quant Small Cap Fund</td>\n",
       "      <td>Small Cap Fund</td>\n",
       "      <td>Growth</td>\n",
       "      <td>26330.8233</td>\n",
       "      <td>0.64</td>\n",
       "      <td>0</td>\n",
       "      <td>1.0</td>\n",
       "      <td>Allowed</td>\n",
       "      <td>5000</td>\n",
       "      <td>1000</td>\n",
       "      <td>...</td>\n",
       "      <td>19.654228</td>\n",
       "      <td>16.468242</td>\n",
       "      <td>46.706522</td>\n",
       "      <td>89.043574</td>\n",
       "      <td>0.378853</td>\n",
       "      <td>22.135185</td>\n",
       "      <td>0.686080</td>\n",
       "      <td>66.222309</td>\n",
       "      <td>33.215069</td>\n",
       "      <td>10.575385</td>\n",
       "    </tr>\n",
       "  </tbody>\n",
       "</table>\n",
       "<p>5 rows × 30 columns</p>\n",
       "</div>"
      ],
      "text/plain": [
       "                          Name                         Sub Category    Plan  \\\n",
       "0  Nippon India Small Cap Fund                       Small Cap Fund  Growth   \n",
       "1           SBI Small Cap Fund                       Small Cap Fund  Growth   \n",
       "2    Quant ELSS Tax Saver Fund  Equity Linked Savings Scheme (ELSS)  Growth   \n",
       "3    Motilal Oswal Midcap Fund                         Mid Cap Fund  Growth   \n",
       "4         Quant Small Cap Fund                       Small Cap Fund  Growth   \n",
       "\n",
       "          AUM  expense_ratio  lockin  exit_load sip_investment  \\\n",
       "0  62259.5550           0.66       0        1.0        Allowed   \n",
       "1  34217.0149           0.66       0        1.0        Allowed   \n",
       "2  10979.7141           0.65       3        0.0        Allowed   \n",
       "3  20055.6809           0.58       0        1.0        Allowed   \n",
       "4  26330.8233           0.64       0        1.0        Allowed   \n",
       "\n",
       "   minimum_lumpsum  minimum_sip  ...  volatility  category_st_dev  \\\n",
       "0                0          100  ...   16.933338        16.468242   \n",
       "1                0            0  ...   13.813997        16.468242   \n",
       "2              500            0  ...   17.817548        14.797100   \n",
       "3              500         1500  ...   16.657121        16.602013   \n",
       "4             5000         1000  ...   19.654228        16.468242   \n",
       "\n",
       "   maximum_drawdown  percentage_equity_holding  percentage_debt_holding  \\\n",
       "0         48.583718                  94.407231                 0.000000   \n",
       "1         40.260128                  88.463313                 0.000000   \n",
       "2         36.120169                  92.966502                 0.000000   \n",
       "3         37.231974                  97.597650                 0.000000   \n",
       "4         46.706522                  89.043574                 0.378853   \n",
       "\n",
       "   percentage_largecap_holding  percentage_midcap_holding  \\\n",
       "0                    11.116112                  17.203678   \n",
       "1                     0.000000                   9.696481   \n",
       "2                    82.427349                   5.366091   \n",
       "3                    38.427298                  57.618415   \n",
       "4                    22.135185                   0.686080   \n",
       "\n",
       "   percentage_smallcap_holding  percentage_concetration__top_5_holdings  \\\n",
       "0                    66.087441                                12.321307   \n",
       "1                    78.766831                                21.929414   \n",
       "2                     5.173062                                39.416176   \n",
       "3                     1.551937                                44.741917   \n",
       "4                    66.222309                                33.215069   \n",
       "\n",
       "   percentage_cash_holding  \n",
       "0                 5.177243  \n",
       "1                11.536687  \n",
       "2                 6.958892  \n",
       "3                 2.402350  \n",
       "4                10.575385  \n",
       "\n",
       "[5 rows x 30 columns]"
      ]
     },
     "execution_count": 9,
     "metadata": {},
     "output_type": "execute_result"
    }
   ],
   "source": [
    "df.head(5)"
   ]
  },
  {
   "cell_type": "markdown",
   "metadata": {},
   "source": [
    "Now we need to map the each MF to its benchmark using the tables in https://www.amfiindia.com/research-information/other-data/listofbenchmarkindices"
   ]
  },
  {
   "cell_type": "code",
   "execution_count": 10,
   "metadata": {},
   "outputs": [],
   "source": [
    "df.insert(2, 'Benchmark Index', pd.NA)"
   ]
  },
  {
   "cell_type": "code",
   "execution_count": 12,
   "metadata": {},
   "outputs": [
    {
     "data": {
      "text/plain": [
       "Index(['Name', 'Sub Category', 'Benchmark Index', 'Plan', 'AUM',\n",
       "       'expense_ratio', 'lockin', 'exit_load', 'sip_investment',\n",
       "       'minimum_lumpsum', 'minimum_sip', 'absolute_returns__3m',\n",
       "       'absolute_returns__6m', 'absolute_returns__1y',\n",
       "       '3y_avg_annual_rolling_return_', 'cagr_3y', 'cagr_5y', 'cagr_10y',\n",
       "       'pe_ratio', 'category_pe_ratio', 'tracking_error', 'volatility',\n",
       "       'category_st_dev', 'maximum_drawdown', 'percentage_equity_holding',\n",
       "       'percentage_debt_holding', 'percentage_largecap_holding',\n",
       "       'percentage_midcap_holding', 'percentage_smallcap_holding',\n",
       "       'percentage_concetration__top_5_holdings', 'percentage_cash_holding'],\n",
       "      dtype='object')"
      ]
     },
     "execution_count": 12,
     "metadata": {},
     "output_type": "execute_result"
    }
   ],
   "source": [
    "df.columns"
   ]
  },
  {
   "cell_type": "code",
   "execution_count": null,
   "metadata": {},
   "outputs": [],
   "source": []
  }
 ],
 "metadata": {
  "kernelspec": {
   "display_name": ".venv",
   "language": "python",
   "name": "python3"
  },
  "language_info": {
   "codemirror_mode": {
    "name": "ipython",
    "version": 3
   },
   "file_extension": ".py",
   "mimetype": "text/x-python",
   "name": "python",
   "nbconvert_exporter": "python",
   "pygments_lexer": "ipython3",
   "version": "3.12.2"
  }
 },
 "nbformat": 4,
 "nbformat_minor": 2
}
