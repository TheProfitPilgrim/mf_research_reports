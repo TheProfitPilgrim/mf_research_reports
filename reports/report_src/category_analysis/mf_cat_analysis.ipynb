{
 "cells": [
  {
   "cell_type": "code",
   "execution_count": 2,
   "metadata": {},
   "outputs": [],
   "source": [
    "import pandas as pd\n",
    "import numpy as np"
   ]
  },
  {
   "cell_type": "code",
   "execution_count": 3,
   "metadata": {},
   "outputs": [],
   "source": [
    "df = pd.read_csv(\"fund_sheet.csv\")"
   ]
  },
  {
   "cell_type": "code",
   "execution_count": null,
   "metadata": {},
   "outputs": [
    {
     "data": {
      "text/plain": [
       "50"
      ]
     },
     "execution_count": 6,
     "metadata": {},
     "output_type": "execute_result"
    }
   ],
   "source": [
    "fund_categories = df[\"Sub Category\"].unique()\n",
    "len(fund_categories) "
   ]
  },
  {
   "cell_type": "markdown",
   "metadata": {},
   "source": [
    "So we are dealing with a total of 50 fund types\n",
    "\n",
    "Sebi's circulars have a total of 10 (equity) + 16 (debt) + 6 (hybrid) + 2(solution oriented) + 2(Other) + Flexicap = 37 categories"
   ]
  },
  {
   "cell_type": "code",
   "execution_count": 7,
   "metadata": {},
   "outputs": [
    {
     "data": {
      "text/plain": [
       "array(['Small Cap Fund', 'Equity Linked Savings Scheme (ELSS)',\n",
       "       'Mid Cap Fund', 'Flexi Cap Fund', 'Multi Cap Fund',\n",
       "       'Sectoral Fund - Infrastructure', 'Large & Mid Cap Fund',\n",
       "       'Sectoral Fund - Technology', 'Value Fund', 'Thematic Fund',\n",
       "       'Contra Fund', 'Sectoral Fund - Consumption',\n",
       "       'Sectoral Fund - Energy & Power', 'Multi Asset Allocation Fund',\n",
       "       'Focused Fund', 'Sectoral Fund - Banks & Financial Services',\n",
       "       'Aggressive Hybrid Fund', 'Dividend Yield Fund',\n",
       "       'Sectoral Fund - Pharma & Health Care', 'Large Cap Fund',\n",
       "       'Sectoral Fund - Service Industry', 'Balanced Advantage Fund',\n",
       "       'Index Fund', 'Thematic Fund - Global', 'Thematic Fund - MNC',\n",
       "       'Dynamic Asset Allocation Fund', 'Conservative Hybrid Fund',\n",
       "       'Equity Savings', 'Medium Duration Fund',\n",
       "       'Gilt - Short & Mid Term Fund', 'Dynamic Bond Fund',\n",
       "       'Gilt - Long Term Fund', 'Credit Risk Fund',\n",
       "       'Medium to Long Duration Fund', 'Short Duration Fund',\n",
       "       'Long Duration Fund', 'Floating Rate Fund', 'Corporate Bond Fund',\n",
       "       'Banking & PSU Fund', 'Low Duration Fund',\n",
       "       'Ultra Short Duration Fund', 'Money Market Fund', 'Liquid Fund',\n",
       "       'Arbitrage Fund', 'Debt - Interval Fund', 'Overnight Fund',\n",
       "       'Sectoral Fund - Auto', 'Fixed Maturity Plans',\n",
       "       'Balanced Hybrid Fund', 'Sectoral Fund - Infrastructure (Debt)'],\n",
       "      dtype=object)"
      ]
     },
     "execution_count": 7,
     "metadata": {},
     "output_type": "execute_result"
    }
   ],
   "source": [
    "fund_categories"
   ]
  },
  {
   "cell_type": "markdown",
   "metadata": {},
   "source": [
    "Sectoral / Thematic funds are being counted uniquely"
   ]
  },
  {
   "cell_type": "code",
   "execution_count": 15,
   "metadata": {},
   "outputs": [
    {
     "name": "stdout",
     "output_type": "stream",
     "text": [
      "39\n"
     ]
    }
   ],
   "source": [
    "count = 1 # 1 count for all sectoral funds\n",
    "for i in fund_categories:\n",
    "    if i[:8] == 'Sectoral' or i[:8] == 'Thematic':\n",
    "        continue\n",
    "    else:\n",
    "        count += 1\n",
    "print(count)"
   ]
  },
  {
   "cell_type": "markdown",
   "metadata": {},
   "source": [
    "The SEBI circular combines Dynamic Asset Allocation and Balanced Advantage so 39 - 1 = 38. Fixed Maturity plan is not present in the circular but is part of https://www.amfiindia.com/investor-corner/knowledge-center/SEBI-categorization-of-mutual-fund-schemes.html"
   ]
  },
  {
   "cell_type": "code",
   "execution_count": null,
   "metadata": {},
   "outputs": [],
   "source": []
  }
 ],
 "metadata": {
  "kernelspec": {
   "display_name": ".venv",
   "language": "python",
   "name": "python3"
  },
  "language_info": {
   "codemirror_mode": {
    "name": "ipython",
    "version": 3
   },
   "file_extension": ".py",
   "mimetype": "text/x-python",
   "name": "python",
   "nbconvert_exporter": "python",
   "pygments_lexer": "ipython3",
   "version": "3.12.2"
  }
 },
 "nbformat": 4,
 "nbformat_minor": 2
}
